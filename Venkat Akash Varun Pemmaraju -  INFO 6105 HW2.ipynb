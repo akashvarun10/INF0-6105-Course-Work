{
 "cells": [
  {
   "cell_type": "code",
   "execution_count": 1,
   "id": "db6195a9",
   "metadata": {},
   "outputs": [
    {
     "name": "stdout",
     "output_type": "stream",
     "text": [
      "   Random Numbers\n",
      "a              76\n",
      "b              30\n",
      "c              68\n",
      "d              97\n",
      "e              75\n"
     ]
    }
   ],
   "source": [
    "# 1. Convert the list of 26 letters of the alphabet to the index of the Dataframe, and assign 26 random integer numbers and print out the first 5 rows. \n",
    "import pandas as pd\n",
    "import numpy as np\n",
    "\n",
    "# Create a DataFrame with the alphabet as the index\n",
    "alphabet = list(\"abcdefghijklmnopqrstuvwxyz\")\n",
    "df = pd.DataFrame(index=alphabet)\n",
    "\n",
    "# Assign 26 random integer numbers and add them as a new column\n",
    "df['Random Numbers'] = np.random.randint(1, 100, 26)\n",
    "#print(df)\n",
    "# Print the first 5 rows of the DataFrame\n",
    "print(df.head(5))"
   ]
  },
  {
   "cell_type": "code",
   "execution_count": 2,
   "id": "63c36bfe",
   "metadata": {},
   "outputs": [
    {
     "name": "stdout",
     "output_type": "stream",
     "text": [
      "   class1  class2  class3\n",
      "0       1       4       7\n",
      "1       2       5       5\n",
      "2       3       6       8\n",
      "3       4       9      12\n",
      "4       7       5       1\n",
      "5      11       0      11\n",
      "\n",
      " 1st column of this DataFrame as a Series:\n",
      "0     1\n",
      "1     2\n",
      "2     3\n",
      "3     4\n",
      "4     7\n",
      "5    11\n",
      "Name: class1, dtype: int64\n"
     ]
    }
   ],
   "source": [
    "# 2. Construct the following DataFrame and print it out. Use \"iloc\" to convert the first column of this DataFrame as a Series. \n",
    "import pandas as pd\n",
    "\n",
    "data = {\n",
    "    'class1': [1, 2, 3, 4, 7,11],\n",
    "    'class2': [4, 5, 6, 9, 5, 0],\n",
    "    'class3': [7, 5, 8, 12, 1,11]\n",
    "}\n",
    "\n",
    "df = pd.DataFrame(data)\n",
    "\n",
    "# Convert the first column 'class1' to a Series using iloc\n",
    "series_class1 = df.iloc[:, 0]\n",
    "\n",
    "print(df)\n",
    "print(\"\\n 1st column of this DataFrame as a Series:\")\n",
    "print(series_class1)\n",
    "\n"
   ]
  },
  {
   "cell_type": "code",
   "execution_count": 3,
   "id": "0ec1197c",
   "metadata": {},
   "outputs": [
    {
     "name": "stdout",
     "output_type": "stream",
     "text": [
      "   class1  class2\n",
      "0       1       4\n",
      "1       2       5\n",
      "2       3       6\n",
      "3       4       9\n",
      "4       7       5\n",
      "5      11       0\n"
     ]
    }
   ],
   "source": [
    "# 3. Work on the above data (question 2), implement the following tasks using indexers loc and/or iloc: \n",
    "\n",
    "#1) Select all columns except 'class3' and print the result:\n",
    "# Using loc to select all columns except 'class3'\n",
    "# Select all columns except 'class3'\n",
    "result_task1 = df.loc[:, df.columns != 'class3']\n",
    "\n",
    "print(result_task1)"
   ]
  },
  {
   "cell_type": "code",
   "execution_count": 4,
   "id": "9e3ef8ae",
   "metadata": {},
   "outputs": [
    {
     "name": "stdout",
     "output_type": "stream",
     "text": [
      "   class1  class2  class3\n",
      "3       4       9      12\n",
      "4       7       5       1\n",
      "5      11       0      11\n"
     ]
    }
   ],
   "source": [
    "# 3.\n",
    "#2)Remove the first 3 rows of the DataFrame and print it out:\n",
    "# Using iloc to remove the first 3 rows\n",
    "# Remove the first 3 rows using iloc\n",
    "result_task2 = df.iloc[3:]\n",
    "print(result_task2)"
   ]
  },
  {
   "cell_type": "code",
   "execution_count": 5,
   "id": "5c70e4da",
   "metadata": {},
   "outputs": [
    {
     "name": "stdout",
     "output_type": "stream",
     "text": [
      "   class1  class2  class3\n",
      "0       1       4       7\n",
      "1       2       5       5\n",
      "2       3       6       8\n"
     ]
    }
   ],
   "source": [
    "# 3.\n",
    "#3)Remove the last 3 rows of the DataFrame and print it out:\n",
    "# Using iloc to remove the last 3 rows\n",
    "# Remove the last 3 rows using iloc\n",
    "result_task3 = df.iloc[:-3]\n",
    "print(result_task3)"
   ]
  },
  {
   "cell_type": "code",
   "execution_count": 6,
   "id": "88eeb7d3",
   "metadata": {},
   "outputs": [
    {
     "name": "stdout",
     "output_type": "stream",
     "text": [
      "Euclidean Distance between p1 and p2: 18.16590212458495\n"
     ]
    }
   ],
   "source": [
    "#4 Compute the Euclidean distance between two series (points) p1 and p2:     \n",
    "\n",
    "#p1 = pd.Series([1, 2, 3, 4, 5, 6, 7, 8, 9, 10])\n",
    "\n",
    "#p2 = pd.Series([8, 9, 10, 11, 12, 7, 6, 5, 4, 3])\n",
    "\n",
    "import pandas as pd\n",
    "import numpy as np\n",
    "\n",
    "p1 = pd.Series([1, 2, 3, 4, 5, 6, 7, 8, 9, 10])\n",
    "p2 = pd.Series([8, 9, 10, 11, 12, 7, 6, 5, 4, 3])\n",
    "\n",
    "# Calculate the squared difference between the two series\n",
    "squared_diff = (p1 - p2) ** 2\n",
    "\n",
    "# Sum up the squared differences\n",
    "sum_squared_diff = squared_diff.sum()\n",
    "\n",
    "# Calculate the Euclidean distance by taking the square root of the sum\n",
    "euclidean_distance = np.sqrt(sum_squared_diff)\n",
    "\n",
    "print(\"Euclidean Distance between p1 and p2:\", euclidean_distance)\n"
   ]
  },
  {
   "cell_type": "code",
   "execution_count": 7,
   "id": "6c2cac68",
   "metadata": {},
   "outputs": [
    {
     "name": "stdout",
     "output_type": "stream",
     "text": [
      "    p   q   r   s\n",
      "a  52  93  15  72\n",
      "b  61  21  83  87\n",
      "c  75  75  88  24\n",
      "d   3  22  53   2\n",
      "e  88  30  38   2\n",
      "f  64  60  21  33\n",
      "g  76  58  22  89\n",
      "h  49  91  59  42\n",
      "i  92  60  80  15\n",
      "j  62  62  47  62\n"
     ]
    }
   ],
   "source": [
    "# 5) \n",
    "#1) Create the DataFrame df with random values in the specified range:\n",
    "import pandas as pd\n",
    "import numpy as np\n",
    "\n",
    "# Set a random seed for reproducibility\n",
    "np.random.seed(42)\n",
    "\n",
    "# Create the DataFrame with 10 indexes (a to j) and 4 columns (p, q, r, s)\n",
    "data = np.random.randint(1, 100, size=(10, 4))\n",
    "df = pd.DataFrame(data, index=['a', 'b', 'c', 'd', 'e', 'f', 'g', 'h', 'i', 'j'], columns=['p', 'q', 'r', 's'])\n",
    "\n",
    "# Print the DataFrame\n",
    "print(df)"
   ]
  },
  {
   "cell_type": "code",
   "execution_count": 8,
   "id": "a302ecf3",
   "metadata": {},
   "outputs": [
    {
     "name": "stdout",
     "output_type": "stream",
     "text": [
      "    p   q   r   s nearest\n",
      "a  52  93  15  72       a\n",
      "b  61  21  83  87       b\n",
      "c  75  75  88  24       c\n",
      "d   3  22  53   2       d\n",
      "e  88  30  38   2       e\n",
      "f  64  60  21  33       f\n",
      "g  76  58  22  89       g\n",
      "h  49  91  59  42       h\n",
      "i  92  60  80  15       i\n",
      "j  62  62  47  62       j\n"
     ]
    }
   ],
   "source": [
    "# 5) \n",
    "#2) Create a new column that contains the row number of the nearest row-record by Euclidean distance\n",
    "\n",
    "import pandas as pd\n",
    "import numpy as np\n",
    "from scipy.spatial import distance\n",
    "\n",
    "# Set a random seed for reproducibility\n",
    "np.random.seed(42)\n",
    "\n",
    "# Create the DataFrame with random values\n",
    "data = np.random.randint(1, 100, size=(10, 4))\n",
    "df = pd.DataFrame(data, index=['a', 'b', 'c', 'd', 'e', 'f', 'g', 'h', 'i', 'j'], columns=['p', 'q', 'r', 's'])\n",
    "\n",
    "# Calculate the nearest rows by Euclidean distance\n",
    "def find_nearest_row(row):\n",
    "    distances = df.apply(lambda x: distance.euclidean(row, x), axis=1)\n",
    "    nearest_index = distances.idxmin()\n",
    "    return nearest_index\n",
    "\n",
    "df['nearest'] = df.apply(find_nearest_row, axis=1)\n",
    "\n",
    "# Print the updated DataFrame\n",
    "print(df)\n"
   ]
  },
  {
   "cell_type": "code",
   "execution_count": 9,
   "id": "55e54733",
   "metadata": {},
   "outputs": [
    {
     "name": "stdout",
     "output_type": "stream",
     "text": [
      "[[ 0  1  2  3]\n",
      " [ 2  3  4  5]\n",
      " [ 4  5  6  7]\n",
      " [ 6  7  8  9]\n",
      " [ 8  9 10 11]\n",
      " [10 11 12 13]]\n"
     ]
    }
   ],
   "source": [
    "#6) Create a Dataframe with rows as strides from a given series: L = pd.Series(range(15))     \n",
    "import pandas as pd\n",
    "import numpy as np\n",
    "\n",
    "L = pd.Series(range(15))\n",
    "\n",
    "stride_length = 4\n",
    "strides = [L[i:i+stride_length] for i in range(0, len(L) - stride_length + 1, 2)]\n",
    "\n",
    "output = np.array(strides)\n",
    "\n",
    "print(output)\n"
   ]
  },
  {
   "cell_type": "code",
   "execution_count": 10,
   "id": "5b287cec",
   "metadata": {},
   "outputs": [
    {
     "name": "stdout",
     "output_type": "stream",
     "text": [
      "     a   b   c   d   e\n",
      "0    0   1   2   3   4\n",
      "1    1   2   3   4   5\n",
      "2    2   3   4   5   6\n",
      "3    3   4   5   6   7\n",
      "4    4   5   6   7   8\n",
      "5    5   6   7   8   9\n",
      "6    6   7   8   9  10\n",
      "7    7   8   9  10  11\n",
      "8    8   9  10  11  12\n",
      "9    9  10  11  12  13\n",
      "10  10  11  12  13  14\n",
      "11  11  12  13  14  15\n",
      "12  12  13  14  15  16\n",
      "13  13  14  15  16  17\n",
      "14  14  15  16  17  18\n",
      "15  15  16  17  18  19\n",
      "16  16  17  18  19  20\n",
      "17  17  18  19  20  21\n",
      "18  18  19  20  21  22\n"
     ]
    }
   ],
   "source": [
    "#7)\n",
    "#1)Create a DataFrame, the name of columns is abcde respectively, the values ranges [0,20)\n",
    "import pandas as pd\n",
    "import numpy as np\n",
    "\n",
    "# Create a DataFrame with columns 'abcde' and values ranging from 0 to 19.\n",
    "data = {'a': range(0, 19),\n",
    "        'b': range(1, 20),\n",
    "        'c': range(2, 21),\n",
    "        'd': range(3, 22),\n",
    "        'e': range(4, 23)}\n",
    "\n",
    "df = pd.DataFrame(data)\n",
    "\n",
    "print(df)"
   ]
  },
  {
   "cell_type": "code",
   "execution_count": 11,
   "id": "6fb74e7a",
   "metadata": {},
   "outputs": [
    {
     "name": "stdout",
     "output_type": "stream",
     "text": [
      "     a   b   c   d   e\n",
      "0    2   1   0   3   4\n",
      "1    3   2   1   4   5\n",
      "2    4   3   2   5   6\n",
      "3    5   4   3   6   7\n",
      "4    6   5   4   7   8\n",
      "5    7   6   5   8   9\n",
      "6    8   7   6   9  10\n",
      "7    9   8   7  10  11\n",
      "8   10   9   8  11  12\n",
      "9   11  10   9  12  13\n",
      "10  12  11  10  13  14\n",
      "11  13  12  11  14  15\n",
      "12  14  13  12  15  16\n",
      "13  15  14  13  16  17\n",
      "14  16  15  14  17  18\n",
      "15  17  16  15  18  19\n",
      "16  18  17  16  19  20\n",
      "17  19  18  17  20  21\n",
      "18  20  19  18  21  22\n"
     ]
    }
   ],
   "source": [
    "#7)\n",
    "#2)Interchange columns 'a' and 'c':\n",
    "# Interchange columns 'a' and 'c'\n",
    "\n",
    "# Interchange columns 'a' and 'c'\n",
    "df['a'], df['c'] = df['c'], df['a']\n",
    "\n",
    "# Print the DataFrame\n",
    "print(df)"
   ]
  },
  {
   "cell_type": "code",
   "execution_count": 12,
   "id": "9eee70c9",
   "metadata": {},
   "outputs": [
    {
     "name": "stdout",
     "output_type": "stream",
     "text": [
      "     a   b   c   d   e\n",
      "0    2   3   0   1   4\n",
      "1    3   4   1   2   5\n",
      "2    4   5   2   3   6\n",
      "3    5   6   3   4   7\n",
      "4    6   7   4   5   8\n",
      "5    7   8   5   6   9\n",
      "6    8   9   6   7  10\n",
      "7    9  10   7   8  11\n",
      "8   10  11   8   9  12\n",
      "9   11  12   9  10  13\n",
      "10  12  13  10  11  14\n",
      "11  13  14  11  12  15\n",
      "12  14  15  12  13  16\n",
      "13  15  16  13  14  17\n",
      "14  16  17  14  15  18\n",
      "15  17  18  15  16  19\n",
      "16  18  19  16  17  20\n",
      "17  19  20  17  18  21\n",
      "18  20  21  18  19  22\n"
     ]
    }
   ],
   "source": [
    "#7)\n",
    "#3)Create a generic function to interchange arbitrary two columns:\n",
    "# Define a generic function to interchange arbitrary two columns\n",
    "def interchange_columns_generic(df, col1, col2):\n",
    "    df[col1], df[col2] = df[col2], df[col1]\n",
    "    return df\n",
    "\n",
    "# Usage: interchange columns 'b' and 'd'\n",
    "df = interchange_columns_generic(df, 'b', 'd')\n",
    "\n",
    "# Print the DataFrame after interchange\n",
    "print(df)"
   ]
  },
  {
   "cell_type": "code",
   "execution_count": 13,
   "id": "41f4d7f3",
   "metadata": {},
   "outputs": [
    {
     "name": "stdout",
     "output_type": "stream",
     "text": [
      "     e   d   c   b   a\n",
      "0    4   1   0   3   2\n",
      "1    5   2   1   4   3\n",
      "2    6   3   2   5   4\n",
      "3    7   4   3   6   5\n",
      "4    8   5   4   7   6\n",
      "5    9   6   5   8   7\n",
      "6   10   7   6   9   8\n",
      "7   11   8   7  10   9\n",
      "8   12   9   8  11  10\n",
      "9   13  10   9  12  11\n",
      "10  14  11  10  13  12\n",
      "11  15  12  11  14  13\n",
      "12  16  13  12  15  14\n",
      "13  17  14  13  16  15\n",
      "14  18  15  14  17  16\n",
      "15  19  16  15  18  17\n",
      "16  20  17  16  19  18\n",
      "17  21  18  17  20  19\n",
      "18  22  19  18  21  20\n"
     ]
    }
   ],
   "source": [
    "#7)\n",
    "#4)Sort the columns in reverse alphabetical order:\n",
    "# Sort columns in reverse alphabetical order\n",
    "# Sort the columns in reverse alphabetical order\n",
    "df = df[sorted(df.columns, reverse=True)]\n",
    "\n",
    "# Print the DataFrame after sorting\n",
    "print(df)"
   ]
  },
  {
   "cell_type": "code",
   "execution_count": 14,
   "id": "5c4b84d8",
   "metadata": {},
   "outputs": [
    {
     "name": "stdout",
     "output_type": "stream",
     "text": [
      "        Date  Value\n",
      "0 2021-01-02     56\n",
      "1 2021-01-09     54\n",
      "2 2021-01-16     46\n",
      "3 2021-01-23     79\n",
      "4 2021-01-30     52\n",
      "5 2021-02-06     29\n",
      "6 2021-02-13     25\n",
      "7 2021-02-20     60\n",
      "8 2021-02-27     15\n",
      "9 2021-03-06     46\n"
     ]
    }
   ],
   "source": [
    "#8)Create a TimeSeries starting ‘2021-01-01’ and 10 weekends (Saturdays) after that having random numbers as values.    \n",
    "\n",
    "import pandas as pd\n",
    "import random\n",
    "\n",
    "# Define the start date\n",
    "start_date = '2021-01-01'\n",
    "\n",
    "# Create a list of dates for 10 Saturdays\n",
    "date_range = pd.date_range(start=start_date, periods=10, freq='W-SAT')\n",
    "\n",
    "# Generate random values for each Saturday\n",
    "random_values = [random.randint(1, 100) for _ in range(10)]\n",
    "\n",
    "# Create a DataFrame with the dates and random values\n",
    "time_series = pd.DataFrame({'Date': date_range, 'Value': random_values})\n",
    "\n",
    "# Display the time series\n",
    "print(time_series)"
   ]
  },
  {
   "cell_type": "code",
   "execution_count": 15,
   "id": "d63d053d",
   "metadata": {},
   "outputs": [
    {
     "name": "stdout",
     "output_type": "stream",
     "text": [
      "2021-01-01     1.0\n",
      "2021-01-03    10.0\n",
      "2021-01-06     3.0\n",
      "2021-01-08     NaN\n",
      "dtype: float64\n"
     ]
    }
   ],
   "source": [
    "#9)\n",
    "#1)Create a Pandas time series with missing dates (from 2021-01-01 to 2021-01-08) and values, shown as below\n",
    "import numpy as np\n",
    "\n",
    "# Define the dates and values as given\n",
    "date_values = {\n",
    "    '2021-01-01': 1.0,\n",
    "    '2021-01-03': 10.0,\n",
    "    '2021-01-06': 3.0,\n",
    "    '2021-01-08': np.nan\n",
    "}\n",
    "\n",
    "# Create a Pandas Series with the specified dates and values\n",
    "time_series = pd.Series(date_values, dtype=float)\n",
    "\n",
    "# Convert the index to datetime format\n",
    "time_series.index = pd.to_datetime(time_series.index)\n",
    "\n",
    "# Print the time series\n",
    "print(time_series)\n"
   ]
  },
  {
   "cell_type": "code",
   "execution_count": 16,
   "id": "2d658071",
   "metadata": {},
   "outputs": [
    {
     "name": "stdout",
     "output_type": "stream",
     "text": [
      "       index  Value\n",
      "0 2021-01-01    1.0\n",
      "1 2021-01-02    1.0\n",
      "2 2021-01-03   10.0\n",
      "3 2021-01-04   10.0\n",
      "4 2021-01-05   10.0\n",
      "5 2021-01-06    3.0\n",
      "6 2021-01-07    3.0\n",
      "7 2021-01-08    3.0\n"
     ]
    }
   ],
   "source": [
    "#9)\n",
    "#2)Make all missing dates appear and fill up with value from previous date, shown as below\n",
    "import pandas as pd\n",
    "\n",
    "# Create a dictionary with the given data\n",
    "data = {\n",
    "    'Date': ['2021-01-01', '2021-01-03', '2021-01-06', '2021-01-08'],\n",
    "    'Value': [1.0, 10.0, 3.0, None]\n",
    "}\n",
    "\n",
    "# Create a DataFrame\n",
    "df = pd.DataFrame(data)\n",
    "\n",
    "# Convert the 'Date' column to a datetime type\n",
    "df['Date'] = pd.to_datetime(df['Date'])\n",
    "\n",
    "# Set the 'Date' column as the index\n",
    "df = df.set_index('Date')\n",
    "\n",
    "# Generate a date range from '2021-01-01' to '2021-01-08'\n",
    "date_range = pd.date_range(start='2021-01-01', end='2021-01-08')\n",
    "\n",
    "# Reindex the DataFrame with the full date range and forward fill missing values\n",
    "df = df.reindex(date_range).ffill()\n",
    "\n",
    "# Reset the index to have 'Date' as a column again (optional)\n",
    "df = df.reset_index()\n",
    "\n",
    "# Display the final DataFrame\n",
    "print(df)"
   ]
  },
  {
   "cell_type": "code",
   "execution_count": 17,
   "id": "4d309b76",
   "metadata": {},
   "outputs": [
    {
     "name": "stdout",
     "output_type": "stream",
     "text": [
      "    fruit     taste  price\n",
      "0   apple  0.543405      9\n",
      "1  banana  0.278369      5\n",
      "2  orange  0.424518     12\n",
      "3   apple  0.844776     13\n",
      "4  banana  0.004719     11\n",
      "5  orange  0.121569      1\n",
      "6   apple  0.670749     12\n",
      "7  banana  0.825853     10\n",
      "8  orange  0.136707     14\n"
     ]
    }
   ],
   "source": [
    "#10)\n",
    "#1)Create a DataFrame ‘df’: the indexes are integer from 0 to 8 (9 rows); the columns are ‘fruit’, ‘taste’, ‘price’; the items of ‘fruit’ are: apple, banana, orange, respectively and repeating 3 times. The ‘taste’ ranges [0,1). The price is integer and ranges [1, 15). The seed of random values is set as 100.\n",
    "import pandas as pd\n",
    "import numpy as np\n",
    "\n",
    "# Task 1: Create the DataFrame\n",
    "np.random.seed(100)\n",
    "\n",
    "data = {\n",
    "    'fruit': ['apple', 'banana', 'orange'] * 3,\n",
    "    'taste': np.random.rand(9),\n",
    "    'price': np.random.randint(1, 15, 9)\n",
    "}\n",
    "\n",
    "df = pd.DataFrame(data)\n",
    "\n",
    "# Print the DataFrame\n",
    "print(df)"
   ]
  },
  {
   "cell_type": "code",
   "execution_count": 18,
   "id": "6001c05e",
   "metadata": {},
   "outputs": [
    {
     "name": "stdout",
     "output_type": "stream",
     "text": [
      "Second largest taste value for 'banana': 0.27836938509379616\n"
     ]
    }
   ],
   "source": [
    "#10)\n",
    "#2)Find the second largest value of 'taste' for 'banana':\n",
    "# Group by 'fruit' and filter for 'banana'\n",
    "banana_group = df[df['fruit'] == 'banana']\n",
    "\n",
    "# Sort the 'taste' column in descending order and get the second value\n",
    "second_largest_taste = banana_group['taste'].sort_values(ascending=False).iloc[1]\n",
    "\n",
    "print(\"Second largest taste value for 'banana':\", second_largest_taste)"
   ]
  },
  {
   "cell_type": "code",
   "execution_count": 19,
   "id": "cf75e72a",
   "metadata": {},
   "outputs": [
    {
     "name": "stdout",
     "output_type": "stream",
     "text": [
      "Mean prices for each fruit:\n",
      "    fruit  mean_price\n",
      "0   apple   11.333333\n",
      "1  banana    8.666667\n",
      "2  orange    9.000000\n"
     ]
    }
   ],
   "source": [
    "#10)\n",
    "#3)Compute the mean price of every fruit, keeping 'fruit' as another column\n",
    "# Group by 'fruit' and compute the mean price for each fruit\n",
    "mean_prices = df.groupby('fruit')['price'].mean().reset_index()\n",
    "\n",
    "# Rename the columns for clarity\n",
    "mean_prices.columns = ['fruit', 'mean_price']\n",
    "\n",
    "# Print the result\n",
    "print(\"Mean prices for each fruit:\")\n",
    "print(mean_prices)\n"
   ]
  },
  {
   "cell_type": "code",
   "execution_count": 20,
   "id": "ac07b45c",
   "metadata": {},
   "outputs": [
    {
     "name": "stdout",
     "output_type": "stream",
     "text": [
      "    0   1   2   3   4   5   6   7   8   9\n",
      "0  37  12  72   9  75   5  79  64  16   1\n",
      "1  76  71   6  25  50  20  18  84  11  28\n",
      "2  29  14  50  68  87  87  94  96  86  13\n",
      "3   9   7  63  61  22  57   1   0  60  81\n",
      "4   8  88  13  47  72  30  71   3  70  21\n",
      "5  49  57   3  68  24  43  76  26  52  80\n",
      "6  41  82  15  64  68  25  98  87   7  26\n",
      "7  25  22   9  67  23  27  37  57  83  38\n"
     ]
    }
   ],
   "source": [
    "#11)\n",
    "#1)Create a df, for the values [0,100) with a seed 1, its shape is (8,10)\n",
    "import numpy as np\n",
    "import pandas as pd\n",
    "\n",
    "# Set the random seed\n",
    "np.random.seed(1)\n",
    "\n",
    "# Create a DataFrame with random values in the range [0, 100)\n",
    "df = pd.DataFrame(np.random.randint(0, 100, size=(8, 10)))\n",
    "\n",
    "# Print the DataFrame\n",
    "print(df)"
   ]
  },
  {
   "cell_type": "code",
   "execution_count": 21,
   "id": "b93daef7",
   "metadata": {},
   "outputs": [
    {
     "name": "stdout",
     "output_type": "stream",
     "text": [
      "    0   1   2   3   4   5   6   7   8   9  largest2nd\n",
      "0  37  12  72   9  75   5  79  64  16   1          75\n",
      "1  76  71   6  25  50  20  18  84  11  28          76\n",
      "2  29  14  50  68  87  87  94  96  86  13          94\n",
      "3   9   7  63  61  22  57   1   0  60  81          63\n",
      "4   8  88  13  47  72  30  71   3  70  21          72\n",
      "5  49  57   3  68  24  43  76  26  52  80          76\n",
      "6  41  82  15  64  68  25  98  87   7  26          87\n",
      "7  25  22   9  67  23  27  37  57  83  38          67\n"
     ]
    }
   ],
   "source": [
    "#11)\n",
    "#2) Create a new column 'largest2nd' with the second largest value of each row of df\n",
    "# Function to calculate the second largest value in a row\n",
    "def second_largest(row):\n",
    "    sorted_row = sorted(row, reverse=True)\n",
    "    return sorted_row[1]\n",
    "\n",
    "# Create the 'largest2nd' column by applying the function to each row\n",
    "df['largest2nd'] = df.apply(second_largest, axis=1)\n",
    "\n",
    "# Print the DataFrame with the 'largest2nd' column\n",
    "print(df)"
   ]
  },
  {
   "cell_type": "code",
   "execution_count": 22,
   "id": "186cd77e",
   "metadata": {},
   "outputs": [
    {
     "name": "stdout",
     "output_type": "stream",
     "text": [
      "      0     1     2     3     4     5     6     7     8     9\n",
      "0  0.12 -0.95  1.54 -1.87  0.84 -1.25  0.55  0.31 -0.99 -1.18\n",
      "1  1.88  0.79 -0.82 -1.16 -0.10 -0.66 -1.14  0.84 -1.14 -0.27\n",
      "2 -0.24 -0.89  0.75  0.75  1.29  1.97  0.96  1.15  1.17 -0.78\n",
      "3 -1.14 -1.09  1.22  0.44 -1.15  0.80 -1.61 -1.37  0.37  1.52\n",
      "4 -1.18  1.29 -0.57 -0.18  0.73 -0.27  0.33 -1.29  0.67 -0.51\n",
      "5  0.66  0.38 -0.92  0.75 -1.08  0.25  0.46 -0.69  0.12  1.49\n",
      "6  0.30  1.12 -0.49  0.57  0.58 -0.46  1.07  0.92 -1.27 -0.34\n",
      "7 -0.42 -0.65 -0.71  0.70 -1.12 -0.38 -0.62  0.13  1.07  0.07\n"
     ]
    }
   ],
   "source": [
    "#12)For the same df created in Question 11-(1), use Pandas ufuncs to normalize all columns of df by subtracting the column mean and divide by standard deviation and keep the result within two decimal places.    \n",
    "\n",
    "import pandas as pd\n",
    "import numpy as np\n",
    "\n",
    "# Create a DataFrame with random values\n",
    "np.random.seed(1)\n",
    "df = pd.DataFrame(np.random.randint(0, 100, size=(8, 10)))\n",
    "\n",
    "# Normalize the DataFrame by subtracting the column mean and dividing by the standard deviation\n",
    "normalized_df = (df - df.mean()) / df.std()\n",
    "\n",
    "# Round the result to two decimal places\n",
    "normalized_df = normalized_df.round(2)\n",
    "\n",
    "# Print the normalized DataFrame\n",
    "print(normalized_df)"
   ]
  },
  {
   "cell_type": "code",
   "execution_count": 23,
   "id": "50d865dd",
   "metadata": {},
   "outputs": [
    {
     "name": "stdout",
     "output_type": "stream",
     "text": [
      "decade                         1980  1990  2000  2010\n",
      "method                                               \n",
      "Astrometry                        0     0     0     2\n",
      "Eclipse Timing Variations         0     0     3     6\n",
      "Imaging                           0     0    20    18\n",
      "Microlensing                      0     0    10    13\n",
      "Orbital Brightness Modulation     0     0     0     3\n",
      "Pulsar Timing                     0     3     1     1\n",
      "Pulsation Timing Variations       0     0     1     0\n",
      "Radial Velocity                   1    28   309   215\n",
      "Transit                           0     0    62   335\n",
      "Transit Timing Variations         0     0     0     4\n"
     ]
    }
   ],
   "source": [
    "#13)Use the Planets dataset (taught in Pandas 4 lecture regarding groupby), count discovered planets by method and by decade:\n",
    "import seaborn as sns\n",
    "import pandas as pd\n",
    "\n",
    "# Load the Planets dataset\n",
    "planets = sns.load_dataset('planets')\n",
    "\n",
    "# Extract the year of discovery and create a 'decade' column\n",
    "planets['decade'] = (planets['year'] // 10) * 10\n",
    "\n",
    "# Create a pivot table to count the discovered planets by method and decade\n",
    "pivot_table = planets.pivot_table(index='method', columns='decade', values='number', aggfunc='count', fill_value=0)\n",
    "\n",
    "# Print the pivot table\n",
    "print(pivot_table)\n"
   ]
  },
  {
   "cell_type": "code",
   "execution_count": null,
   "id": "15be32e9",
   "metadata": {},
   "outputs": [],
   "source": [
    "\n"
   ]
  },
  {
   "cell_type": "code",
   "execution_count": null,
   "id": "cb2eae72",
   "metadata": {},
   "outputs": [],
   "source": []
  }
 ],
 "metadata": {
  "kernelspec": {
   "display_name": "Python 3 (ipykernel)",
   "language": "python",
   "name": "python3"
  },
  "language_info": {
   "codemirror_mode": {
    "name": "ipython",
    "version": 3
   },
   "file_extension": ".py",
   "mimetype": "text/x-python",
   "name": "python",
   "nbconvert_exporter": "python",
   "pygments_lexer": "ipython3",
   "version": "3.9.10"
  }
 },
 "nbformat": 4,
 "nbformat_minor": 5
}

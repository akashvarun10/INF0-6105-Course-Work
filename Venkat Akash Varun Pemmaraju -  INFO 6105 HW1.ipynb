{
 "cells": [
  {
   "cell_type": "code",
   "execution_count": 1,
   "id": "78e4c174",
   "metadata": {},
   "outputs": [],
   "source": [
    "#INFO6105 - HW1 "
   ]
  },
  {
   "cell_type": "code",
   "execution_count": 2,
   "id": "963d6924",
   "metadata": {},
   "outputs": [
    {
     "name": "stdout",
     "output_type": "stream",
     "text": [
      "[[1 2 3]\n",
      " [4 5 6]]\n"
     ]
    }
   ],
   "source": [
    "#1). Convert a Python list x=[[1,2,3],[4,5,6]] into a Numpy array.    \n",
    "import numpy as np\n",
    "x = [[1,2,3],[4,5,6]]\n",
    "NumPy_Array = np.array(x)\n",
    "print(NumPy_Array)"
   ]
  },
  {
   "cell_type": "code",
   "execution_count": 3,
   "id": "1055834f",
   "metadata": {},
   "outputs": [],
   "source": [
    "#2). Use one line to create a 3x2 2D array with shape of (3,2), filled with 1-6.     \n",
    "array = np.arange(1, 7).reshape(3, 2)"
   ]
  },
  {
   "cell_type": "code",
   "execution_count": 4,
   "id": "59d1e1f7",
   "metadata": {},
   "outputs": [
    {
     "name": "stdout",
     "output_type": "stream",
     "text": [
      "51.0\n"
     ]
    }
   ],
   "source": [
    "#3). Use one line to create an array of 2, 4, 6, 8, ..., 98, 100; and find the mean value. \n",
    "mean_value = np.mean(np.arange(2, 101, 2))\n",
    "\n",
    "print(mean_value)"
   ]
  },
  {
   "cell_type": "code",
   "execution_count": 5,
   "id": "b016eded",
   "metadata": {},
   "outputs": [
    {
     "name": "stdout",
     "output_type": "stream",
     "text": [
      "Array:\n",
      "[[[0.56415084 0.89335875 0.27678383]\n",
      "  [0.19970972 0.18140542 0.87581342]\n",
      "  [0.67639465 0.34758723 0.93358549]]\n",
      "\n",
      " [[0.14729142 0.97032022 0.20526601]\n",
      "  [0.706272   0.39952171 0.50605108]\n",
      "  [0.31667283 0.03883823 0.66699731]]\n",
      "\n",
      " [[0.512806   0.25678805 0.54207016]\n",
      "  [0.98274088 0.38579259 0.98417537]\n",
      "  [0.13491371 0.34051133 0.94876458]]]\n",
      "Minimum Value: 0.03883822511207413\n",
      "Maximum Value: 0.9841753654463222\n"
     ]
    }
   ],
   "source": [
    "#4) Create an 3x3x3 array filled with arbitrary float numbers; and find the minimum and maximum values.   \n",
    "\n",
    "\n",
    "array = np.random.rand(3, 3, 3)# Create a 3x3x3 array with arbitrary float numbers\n",
    "\n",
    "min_value = np.min(array) # to find max value\n",
    "max_value = np.max(array) # to find min value\n",
    "\n",
    "print(\"Array:\")\n",
    "print(array)\n",
    "print(\"Minimum Value:\", min_value)\n",
    "print(\"Maximum Value:\", max_value)\n"
   ]
  },
  {
   "cell_type": "code",
   "execution_count": 6,
   "id": "bf76c557",
   "metadata": {},
   "outputs": [
    {
     "name": "stdout",
     "output_type": "stream",
     "text": [
      "[[10 11 12 13]\n",
      " [14 15 16 17]\n",
      " [18 19 20 21]]\n"
     ]
    }
   ],
   "source": [
    "# 5) Create a 3x4 2D array filled with values from 10 to 21 (included)\n",
    "\n",
    "array_2d = np.arange(10, 22).reshape(3, 4)\n",
    "\n",
    "print(array_2d)\n"
   ]
  },
  {
   "cell_type": "code",
   "execution_count": 7,
   "id": "f1d3a0e8",
   "metadata": {},
   "outputs": [
    {
     "name": "stdout",
     "output_type": "stream",
     "text": [
      "[ 5  8 11 14 17 20 23 26 29 32]\n"
     ]
    }
   ],
   "source": [
    "# 6) Create a numpy array of length 10, starting from 5 and has a step of 3 between consecutive numbers\n",
    "\n",
    "array_l10 = np.arange(5, 5 + 10 * 3, 3)\n",
    "# 5 is the start val of array\n",
    "# 10 is length of array \n",
    "# 3 is the step\n",
    "\n",
    "print(array_l10)\n"
   ]
  },
  {
   "cell_type": "code",
   "execution_count": 8,
   "id": "5568a65d",
   "metadata": {},
   "outputs": [
    {
     "name": "stdout",
     "output_type": "stream",
     "text": [
      "Memory Size: 800 bytes\n"
     ]
    }
   ],
   "source": [
    "# 7) Create a shape (10,10) array with arbitrary values; and find the memory size of this array.\n",
    "\n",
    "array_test = np.random.rand(10, 10)# Creating a 10x10 array \n",
    "\n",
    "memory_size = array_test.nbytes\n",
    "\n",
    "print(\"Memory Size:\", memory_size, \"bytes\")\n"
   ]
  },
  {
   "cell_type": "code",
   "execution_count": 9,
   "id": "290b9ef9",
   "metadata": {},
   "outputs": [
    {
     "name": "stdout",
     "output_type": "stream",
     "text": [
      "[0.77368907 0.51188614 0.62414345 0.11833138 5.         0.21045483\n",
      " 0.5464845  0.88749333 0.84853134 0.09792006]\n"
     ]
    }
   ],
   "source": [
    "# 8) Create a 1-d array of size 10 with arbitrary values but the fifth value should be 5. \n",
    "\n",
    "array_5 = np.random.rand(10)# Creating a 1D array with length of 10\n",
    "\n",
    "array_5[4] = 5\n",
    "\n",
    "print(array_5)\n"
   ]
  },
  {
   "cell_type": "code",
   "execution_count": 10,
   "id": "8c90e1db",
   "metadata": {},
   "outputs": [
    {
     "name": "stdout",
     "output_type": "stream",
     "text": [
      "[10 11 12 13 14 15 16 17 18 19 20 21 22 23 24 25 26 27 28 29 30 31 32 33\n",
      " 34 35 36 37 38 39 40 41 42 43 44 45 46 47 48 49]\n",
      "[49 48 47 46 45 44 43 42 41 40 39 38 37 36 35 34 33 32 31 30 29 28 27 26\n",
      " 25 24 23 22 21 20 19 18 17 16 15 14 13 12 11 10]\n"
     ]
    }
   ],
   "source": [
    "# 9) Create an array with values ranging from 10 to 49 (included); and reverse it then (first element becomes last).\n",
    "import numpy as np\n",
    "\n",
    "initial_array = np.arange(10, 50)# Create the initial array from 10 to 49\n",
    "\n",
    "\n",
    "# Reverse the array\n",
    "reverse_of_array = initial_array[::-1] # reverse of array\n",
    "\n",
    "print(initial_array)\n",
    "print(reverse_of_array)\n"
   ]
  },
  {
   "cell_type": "code",
   "execution_count": 11,
   "id": "6a4d2872",
   "metadata": {},
   "outputs": [
    {
     "name": "stdout",
     "output_type": "stream",
     "text": [
      "[[0.01037415 0.50187459]\n",
      " [0.49577329 0.13382953]\n",
      " [0.14211109 0.21855868]]\n"
     ]
    }
   ],
   "source": [
    "# 10) Create an array of shape (3, 2) with random values from a uniform distribution over [0, 1) and confirm you can get the same value when you run it next time.   \n",
    "\n",
    "\n",
    "np.random.seed(9) # to get the same value we run we use seed\n",
    "\n",
    "array_32 = np.random.rand(3, 2)# np.random.rand --- uses the range[0,1)\n",
    "\n",
    "print(array_32)\n"
   ]
  },
  {
   "cell_type": "code",
   "execution_count": 12,
   "id": "032d3950",
   "metadata": {},
   "outputs": [
    {
     "name": "stdout",
     "output_type": "stream",
     "text": [
      "[[0 1 2 3 4]\n",
      " [0 1 2 3 4]\n",
      " [0 1 2 3 4]\n",
      " [0 1 2 3 4]\n",
      " [0 1 2 3 4]]\n"
     ]
    }
   ],
   "source": [
    "# 11) Create a 5x5 matrix with row values ranging from 0 to 4:  \n",
    "'''[[0. 1. 2. 3. 4.]\n",
    "\n",
    " [0. 1. 2. 3. 4.]\n",
    "\n",
    " [0. 1. 2. 3. 4.]\n",
    "\n",
    " [0. 1. 2. 3. 4.]\n",
    "\n",
    " [0. 1. 2. 3. 4.]]'''\n",
    "\n",
    "matrix = np.tile(np.arange(5), (5, 1)) \n",
    "# np.tile is used to repeat the values .. 5 means repeatition of rows and 1 means column\n",
    "\n",
    "print(matrix)\n",
    "\n"
   ]
  },
  {
   "cell_type": "code",
   "execution_count": 13,
   "id": "6621e4e9",
   "metadata": {},
   "outputs": [
    {
     "name": "stdout",
     "output_type": "stream",
     "text": [
      "[[0. 0. 0. 0. 0. 0. 0.]\n",
      " [0. 1. 1. 1. 1. 1. 0.]\n",
      " [0. 1. 1. 1. 1. 1. 0.]\n",
      " [0. 1. 1. 1. 1. 1. 0.]\n",
      " [0. 1. 1. 1. 1. 1. 0.]\n",
      " [0. 1. 1. 1. 1. 1. 0.]\n",
      " [0. 0. 0. 0. 0. 0. 0.]]\n"
     ]
    }
   ],
   "source": [
    "# 12). Add a border (filled with 0's) around an existing array:                                     6 points\n",
    "\n",
    "'''[[1. 1. 1. 1. 1.]\n",
    "\n",
    " [1. 1. 1. 1. 1.]\n",
    "\n",
    " [1. 1. 1. 1. 1.]\n",
    "\n",
    " [1. 1. 1. 1. 1.]\n",
    "\n",
    " [1. 1. 1. 1. 1.]]'''\n",
    "\n",
    "\n",
    "        \n",
    "'''[[0. 0. 0. 0. 0. 0. 0.]\n",
    "\n",
    " [0. 1. 1. 1. 1. 1. 0.]\n",
    "\n",
    " [0. 1. 1. 1. 1. 1. 0.]\n",
    "\n",
    " [0. 1. 1. 1. 1. 1. 0.]\n",
    "\n",
    " [0. 1. 1. 1. 1. 1. 0.]\n",
    "\n",
    " [0. 1. 1. 1. 1. 1. 0.]\n",
    "\n",
    " [0. 0. 0. 0. 0. 0. 0.]]'''\n",
    "\n",
    "\n",
    "existing_array = np.ones((5, 5))# Existing array\n",
    "\n",
    "\n",
    "larger_array = np.zeros((7, 7))# Creating a larger array filled with 0's\n",
    "\n",
    "\n",
    "larger_array[1:6, 1:6] = existing_array# Place the existing array within the larger array\n",
    "# here is 1 is included and 6 is excluded in the above slicing.\n",
    "\n",
    "\n",
    "print(larger_array)"
   ]
  },
  {
   "cell_type": "code",
   "execution_count": 14,
   "id": "081379a9",
   "metadata": {},
   "outputs": [
    {
     "name": "stdout",
     "output_type": "stream",
     "text": [
      "[[1 0 0 0 0]\n",
      " [0 2 0 0 0]\n",
      " [0 0 3 0 0]\n",
      " [0 0 0 4 0]\n",
      " [0 0 0 0 5]]\n"
     ]
    }
   ],
   "source": [
    "# 13) Create a 5x5 2-d array with values 1,2,3,4,5 on the diagonal \n",
    "\n",
    "array_5x5 = np.diag([1, 2, 3, 4, 5]) # function in numpy used to create diagnol array.\n",
    "\n",
    "print(array_5x5)"
   ]
  },
  {
   "cell_type": "code",
   "execution_count": 15,
   "id": "32f33117",
   "metadata": {},
   "outputs": [
    {
     "name": "stdout",
     "output_type": "stream",
     "text": [
      "[[1 1 0 0 0]\n",
      " [0 2 2 0 0]\n",
      " [0 0 3 3 0]\n",
      " [0 0 0 4 4]\n",
      " [0 0 0 0 5]]\n"
     ]
    }
   ],
   "source": [
    "# Then, make 1,2,3,4 move below the diagonal:\n",
    "import numpy as np\n",
    "\n",
    "# Create a 5x5 diagonal array with values 1, 2, 3, 4, 5 on the diagonal\n",
    "array_5x5 = np.diag([1, 2, 3, 4, 5])\n",
    "\n",
    "# Move 1, 2, 3, 4 below the diagonal\n",
    "array_5x5[np.arange(4), np.arange(1, 5)] = np.arange(1, 5)\n",
    "#np.arange(4) means rows\n",
    "#np.arange(1,5) means columns but excluding 5 \n",
    "#np.arange final means 1,4 add in columns\n",
    "\n",
    "print(array_5x5)\n"
   ]
  },
  {
   "cell_type": "code",
   "execution_count": 16,
   "id": "2d01d88f",
   "metadata": {},
   "outputs": [
    {
     "name": "stdout",
     "output_type": "stream",
     "text": [
      "[[1. 1. 1. 1. 1. 1. 1. 1. 1. 1.]\n",
      " [1. 0. 0. 0. 0. 0. 0. 0. 0. 1.]\n",
      " [1. 0. 0. 0. 0. 0. 0. 0. 0. 1.]\n",
      " [1. 0. 0. 0. 0. 0. 0. 0. 0. 1.]\n",
      " [1. 0. 0. 0. 0. 0. 0. 0. 0. 1.]\n",
      " [1. 0. 0. 0. 0. 0. 0. 0. 0. 1.]\n",
      " [1. 0. 0. 0. 0. 0. 0. 0. 0. 1.]\n",
      " [1. 0. 0. 0. 0. 0. 0. 0. 0. 1.]\n",
      " [1. 0. 0. 0. 0. 0. 0. 0. 0. 1.]\n",
      " [1. 1. 1. 1. 1. 1. 1. 1. 1. 1.]]\n"
     ]
    }
   ],
   "source": [
    "# 14) Create a 10x10 2-d array with 1 on the border and 0 inside\n",
    "\n",
    "import numpy as np\n",
    "\n",
    "array_10 = np.zeros((10, 10))# Creating a zeroes 10x10 array \n",
    "\n",
    "\n",
    "# Setting the border to 1\n",
    "array_10[0, :] = 1  # Top row will be 1\n",
    "array_10[-1, :] = 1  # Bottom row will be 1\n",
    "array_10[:, 0] = 1  # Leftmost column will be 1\n",
    "array_10[:, -1] = 1  # Rightmost column will be 1\n",
    "\n",
    "print(array_10)\n",
    "\n"
   ]
  },
  {
   "cell_type": "code",
   "execution_count": 17,
   "id": "a08a9c9a",
   "metadata": {},
   "outputs": [
    {
     "name": "stdout",
     "output_type": "stream",
     "text": [
      "[4.18508181 2.48101168 0.84059651 3.4549864  1.66776347]\n",
      "Using casting to int:\n",
      "[4 2 0 3 1]\n"
     ]
    }
   ],
   "source": [
    "# 15)  Extract the integer part of a random array of positive numbers using 2 different methods, and the result should be an integer array.       \n",
    "import numpy as np\n",
    "\n",
    "# Generate a random array of positive numbers\n",
    "random_array = np.random.rand(5) * 10  \n",
    "# Here 5 is desired array size \n",
    "# 10 is max value\n",
    "\n",
    "integer_array_1 = random_array.astype(int) # converting into integer part using casting to int\n",
    "\n",
    "print(random_array)\n",
    "print(\"Using casting to int:\")\n",
    "print(integer_array_1)\n"
   ]
  },
  {
   "cell_type": "code",
   "execution_count": 18,
   "id": "d24c0a27",
   "metadata": {},
   "outputs": [],
   "source": [
    "##Operations on Numpy Arrays"
   ]
  },
  {
   "cell_type": "code",
   "execution_count": 19,
   "id": "d8d03c79",
   "metadata": {},
   "outputs": [
    {
     "name": "stdout",
     "output_type": "stream",
     "text": [
      "Index of the 5th repetition of 1: 8\n"
     ]
    }
   ],
   "source": [
    "# 1). Find the index of 5th repetition of number 1 in the given array x.             \n",
    "\n",
    "# x: [1, 2, 1, 1, 3, 4, 3, 1, 1, 2, 1, 1, 2]\n",
    "\n",
    "X = [1, 2, 1, 1, 3, 4, 3, 1, 1, 2, 1, 1, 2]\n",
    "\n",
    "\n",
    "target = 1\n",
    "indices = [i for i, num in enumerate(X) if num == target]\n",
    "#If num is equal to the target that means 1, it will add the index i to the indices list\n",
    "\n",
    "if len(indices) >= 5:\n",
    "    index = indices[4]\n",
    "else:\n",
    "    index = -1\n",
    "\n",
    "print(\"Index of the 5th repetition of 1:\", index)\n",
    "\n"
   ]
  },
  {
   "cell_type": "code",
   "execution_count": 20,
   "id": "bb4978c4",
   "metadata": {},
   "outputs": [
    {
     "name": "stdout",
     "output_type": "stream",
     "text": [
      "Subarray 1: [1 2 3 4]\n",
      "Subarray 2: [5 6]\n",
      "Subarray 3: [7 8 9]\n"
     ]
    }
   ],
   "source": [
    "# 2). Use np.arange to get an array [1, 2, 3, ..., 9]. Split x into 3 sub-arrays, the length of each sub-array is 4, 2, and 3.   \n",
    "\n",
    "# Create an array from 1 to 9\n",
    "x_1 = np.arange(1, 10)# since x why is used in before cells I named x_1\n",
    "\n",
    "# Split x into sub-arrays with lengths 4, 2, and 3\n",
    "Sub_Array1 = x_1[:4]\n",
    "Sub_Array2 = x_1[4:6]\n",
    "Sub_Array3 = x_1[6:]\n",
    "\n",
    "print(\"Subarray 1:\", Sub_Array1)\n",
    "print(\"Subarray 2:\", Sub_Array2)\n",
    "print(\"Subarray 3:\", Sub_Array3)\n"
   ]
  },
  {
   "cell_type": "code",
   "execution_count": 21,
   "id": "d12870d3",
   "metadata": {},
   "outputs": [
    {
     "name": "stdout",
     "output_type": "stream",
     "text": [
      "[[ 0  1  2  3]\n",
      " [ 4  5  6  7]\n",
      " [ 8  9 10 11]\n",
      " [12 13 14 15]]\n"
     ]
    }
   ],
   "source": [
    "# 3)  Use np.arange to generate the following 2D array:                \n",
    "\n",
    "'''[[ 0., 1., 2., 3.],\n",
    "\n",
    " [ 4., 5., 6., 7.],\n",
    "\n",
    " [ 8., 9., 10., 11.],\n",
    "\n",
    " [ 12., 13., 14., 15.]]'''\n",
    "\n",
    "array_16 = np.arange(16).reshape(4, 4)# 1to 15 elements ( 4 x 4 shape)\n",
    "\n",
    "print(array_16)"
   ]
  },
  {
   "cell_type": "code",
   "execution_count": 22,
   "id": "7ca2a297",
   "metadata": {},
   "outputs": [
    {
     "name": "stdout",
     "output_type": "stream",
     "text": [
      "Left Half:\n",
      "[[ 0  1]\n",
      " [ 4  5]\n",
      " [ 8  9]\n",
      " [12 13]]\n",
      "\n",
      "Right Half:\n",
      "[[ 2  3]\n",
      " [ 6  7]\n",
      " [10 11]\n",
      " [14 15]]\n"
     ]
    }
   ],
   "source": [
    "# Use np.split to split the array into left and right halves\n",
    "\n",
    "left_half, right_half = np.split(array_16, 2, axis=1)# Splitting the array into left and right halves\n",
    "# 2 is for the equal size splitting\n",
    "# axis =1 to split columns if required for rows you use axis = 0\n",
    "\n",
    "\n",
    "print(\"Left Half:\")\n",
    "print(left_half)\n",
    "\n",
    "print(\"\\nRight Half:\")\n",
    "print(right_half)\n"
   ]
  },
  {
   "cell_type": "code",
   "execution_count": 23,
   "id": "14df4cbc",
   "metadata": {},
   "outputs": [
    {
     "name": "stdout",
     "output_type": "stream",
     "text": [
      "[[25, 30], [40, 45]]\n",
      "20\n"
     ]
    }
   ],
   "source": [
    "# 4)  Given an 2D array:                                                \n",
    "\n",
    "'''[[5,10,15],\n",
    "\n",
    " [20,25,30],\n",
    "\n",
    " [35,40,45]]\n",
    "\n",
    "(1) Slicing to get the sub-array [[10,15], [25,30]]  (4 points)\n",
    "\n",
    "(2) Getting individual element value \"20\"  (2 points)'''\n",
    "\n",
    "#(1)\n",
    "\n",
    "original_array = [[5, 10, 15], [20, 25, 30], [35, 40, 45]]\n",
    "\n",
    "sub_array = [row[1:] for row in original_array[1:3]]# Slicing to get the sub-array #[[25, 30], [40, 45]]\n",
    "# 1:3 means 1-2 -- [20, 25, 30], [35, 40, 45]\n",
    "# row[1:] removing 1st element (index 0)\n",
    "\n",
    "print(sub_array)\n",
    "\n",
    "# (2)\n",
    "element_value = original_array[1][0]# Getting the individual element value \"20\"\n",
    "\n",
    "print(element_value)"
   ]
  },
  {
   "cell_type": "code",
   "execution_count": 24,
   "id": "4ab6c948",
   "metadata": {},
   "outputs": [
    {
     "name": "stdout",
     "output_type": "stream",
     "text": [
      "[[ 1  2  3  7  8  9]\n",
      " [ 4  5  6 10 11 12]]\n"
     ]
    }
   ],
   "source": [
    "# 5)  Let x be an array:                                                  \n",
    "\n",
    "'''[[ 1 2 3],\n",
    "\n",
    " [ 4 5 6]].\n",
    "and y be an array\n",
    "\n",
    "[[ 7 8 9],\n",
    "\n",
    " [10 11 12]].\n",
    "Concatenate x and y so that a new array looks like\n",
    "\n",
    "[[1, 2, 3, 7, 8, 9],\n",
    "\n",
    " [4, 5, 6, 10, 11, 12]]'''\n",
    "\n",
    "\n",
    "x_new = np.array([[1, 2, 3], [4, 5, 6]])# since x why is used in before cells I named x_new\n",
    "y_new = np.array([[7, 8, 9], [10, 11, 12]])# since y why is used in before cells I named y_new\n",
    "\n",
    "# Concatenate x and y along axis 1 to create a new array\n",
    "result_new = np.concatenate((x_new, y_new), axis=1)\n",
    "\n",
    "# Print the result\n",
    "print(result_new)\n"
   ]
  },
  {
   "cell_type": "code",
   "execution_count": 25,
   "id": "8fbf1444",
   "metadata": {},
   "outputs": [
    {
     "name": "stdout",
     "output_type": "stream",
     "text": [
      "Original 2D Array:\n",
      "[[7 2 3]\n",
      " [4 4 1]\n",
      " [7 2 5]\n",
      " [6 3 7]\n",
      " [1 6 9]]\n",
      "\n",
      "Min divided by Max for Each Row:\n",
      "[0.28571429 0.25       0.28571429 0.42857143 0.11111111]\n"
     ]
    }
   ],
   "source": [
    "# 6). Compute the min/max (min is divided by max) for each row for a given 2d array, in which integer values range from 1 to 10 [1,10) and shape is (5,3).Here requires a random seed to keep the same value from the random generator.\n",
    "\n",
    "import numpy as np\n",
    "\n",
    "np.random.seed(12) # to get same value everytime we run\n",
    "\n",
    "array_this = np.random.randint(1, 10, size=(5, 3))\n",
    "# Creating a random 2D array with values ranging from 1 to 10 and shape (5, 3)\n",
    "\n",
    "\n",
    "# Compute the minimum and maximum for each row\n",
    "min_values = np.min(array_this, axis=1)\n",
    "max_values = np.max(array_this, axis=1)\n",
    "\n",
    "# Calculate the min divided by max for each row\n",
    "min_divided_by_max = min_values / max_values\n",
    "\n",
    "# Print the original array and the min divided by max for each row\n",
    "print(\"Original 2D Array:\")\n",
    "print(array_this)\n",
    "print(\"\\nMin divided by Max for Each Row:\")\n",
    "print(min_divided_by_max)\n"
   ]
  },
  {
   "cell_type": "code",
   "execution_count": 26,
   "id": "cb5b7437",
   "metadata": {},
   "outputs": [
    {
     "name": "stdout",
     "output_type": "stream",
     "text": [
      "Original 5x5 Random Matrix:\n",
      "[[0.98364716 0.48153021 0.91253883 0.18987634 0.14797388]\n",
      " [0.90726736 0.68432507 0.95772873 0.45605092 0.56314114]\n",
      " [0.80126538 0.94317762 0.22335928 0.70293978 0.49994509]\n",
      " [0.20266072 0.62936457 0.14429873 0.05295153 0.16436803]\n",
      " [0.86622657 0.03742869 0.21764164 0.98656115 0.17284219]]\n",
      "\n",
      "Normalized 5x5 Matrix:\n",
      "[[ 1.40570613 -0.10738068  1.19142723 -0.98625485 -1.11252438]\n",
      " [ 1.17554208  0.50372441  1.32760315 -0.18416035  0.13854692]\n",
      " [ 0.85611413  1.28375461 -0.88535686  0.55981826 -0.05188902]\n",
      " [-0.94773021  0.33810561 -1.12359912 -1.39886617 -1.063122  ]\n",
      " [ 1.05186916 -1.44564291 -0.90258649  1.41448719 -1.03758584]]\n"
     ]
    }
   ],
   "source": [
    "# 7). Normalize a 5x5 random matrix:                          \n",
    "\n",
    "#Tips: a normalization operates like: (the array - the mean)/the standard deviation\n",
    "\n",
    "\n",
    "random_matrix = np.random.rand(5, 5)# Create a random 5x5 matrix\n",
    "\n",
    "\n",
    "# Calculate the mean and standard deviation of the matrix\n",
    "mean_value = np.mean(random_matrix)\n",
    "std_deviation = np.std(random_matrix)\n",
    "\n",
    "# Normalize the matrix\n",
    "normalized_matrix = (random_matrix - mean_value) / std_deviation\n",
    "\n",
    "# Print the original and normalized matrices\n",
    "print(\"Original 5x5 Random Matrix:\")\n",
    "print(random_matrix)\n",
    "print(\"\\nNormalized 5x5 Matrix:\")\n",
    "print(normalized_matrix)\n"
   ]
  },
  {
   "cell_type": "code",
   "execution_count": 27,
   "id": "c6a3048d",
   "metadata": {},
   "outputs": [
    {
     "name": "stdout",
     "output_type": "stream",
     "text": [
      "[0 1 2 3 4 5 6 7 8 9]\n"
     ]
    }
   ],
   "source": [
    "# 8). Convert 3 arrays into a 1d array.                          \\\n",
    "\n",
    "'''arr1: 0,1,2\n",
    "\n",
    "arr2: 3,4,5,6\n",
    "\n",
    "arr3: 7,8,9\n",
    "Generate the 3 arrays by numpy arange()'''\n",
    "\n",
    "import numpy as np\n",
    "\n",
    "# Generate the three arrays using np.arange()\n",
    "arr1 = np.arange(3)\n",
    "arr2 = np.arange(3, 7)\n",
    "arr3 = np.arange(7, 10)\n",
    "\n",
    "result_q = np.concatenate((arr1, arr2, arr3))# Concatenate the three arrays into a single 1D array\n",
    "\n",
    "\n",
    "# Print the resulting 1D array\n",
    "print(result_q)\n",
    "\n"
   ]
  },
  {
   "cell_type": "code",
   "execution_count": 28,
   "id": "467b1774",
   "metadata": {},
   "outputs": [
    {
     "name": "stdout",
     "output_type": "stream",
     "text": [
      "[54 22 22 52 40 33]\n"
     ]
    }
   ],
   "source": [
    "# 9)  Get all items between 15 and 55 from aa, math expression: [15,55].                  \n",
    "\n",
    "#The aa is uniformly distributed integers in a 1D array (size=20) with given values (<100). Requires defining a seed.\n",
    "\n",
    "\n",
    "# Set a seed for reproducibility\n",
    "seed = 9\n",
    "np.random.seed(seed)\n",
    "\n",
    "# Generate the array of uniformly distributed integers\n",
    "array_size = 20\n",
    "min_value = 0\n",
    "max_value = 100\n",
    "aa = np.random.randint(min_value, max_value, size=array_size)\n",
    "#np.random.randint helps to generate random intergers given a range\n",
    "\n",
    "# Filter the values between 15 and 55\n",
    "filtered_values = aa[(aa >= 15) & (aa <= 55)]\n",
    "\n",
    "print(filtered_values)\n"
   ]
  },
  {
   "cell_type": "code",
   "execution_count": 29,
   "id": "7c4423f6",
   "metadata": {},
   "outputs": [
    {
     "name": "stdout",
     "output_type": "stream",
     "text": [
      "(array([1, 3, 5, 7]),)\n"
     ]
    }
   ],
   "source": [
    "# 10) Get the positions where elements of a and b match.                 \n",
    "\n",
    "#a = np.array([1,2,3,2,3,4,3,4,5,6])\n",
    "\n",
    "#b = np.array([7,2,10,2,7,4,9,4,9,8])\n",
    "\n",
    "a = np.array([1, 2, 3, 2, 3, 4, 3, 4, 5, 6])\n",
    "b = np.array([7, 2, 10, 2, 7, 4, 9, 4, 9, 8])\n",
    "\n",
    "# Find positions where elements of a and b match\n",
    "matched_positions = np.where(a == b)\n",
    "\n",
    "print(matched_positions)\n"
   ]
  },
  {
   "cell_type": "code",
   "execution_count": 30,
   "id": "27e4ee99",
   "metadata": {},
   "outputs": [
    {
     "name": "stdout",
     "output_type": "stream",
     "text": [
      "[ 0 -1  2 -1  4 -1  6 -1  8 -1 10 -1 12 -1 14 -1 16 -1 18 -1 20]\n"
     ]
    }
   ],
   "source": [
    "# 11). Use arange() to create an array from 0 to 20 ( [0,20) ); replace all odd numbers with -1.\n",
    "\n",
    "test_arr = np.arange(0,21)\n",
    "test_arr[test_arr % 2 != 0] = -1\n",
    "\n",
    "print(test_arr)"
   ]
  },
  {
   "cell_type": "code",
   "execution_count": 31,
   "id": "ec60f057",
   "metadata": {},
   "outputs": [
    {
     "name": "stdout",
     "output_type": "stream",
     "text": [
      "[[66 52 56 36]\n",
      " [27 42 50 52]\n",
      " [50 47 56 49]]\n"
     ]
    }
   ],
   "source": [
    "# 12) Considering a four dimensions array (3,4,3,4) with the values 0-9 randomly, how to get sum over the last two axis at once?    \n",
    "\n",
    "# Create a random four-dimensional array (3, 4, 3, 4) with values between 0 and 9\n",
    "arr_4d = np.random.randint(0, 10, size=(3, 4, 3, 4))\n",
    "\n",
    "result = np.sum(arr_4d, axis=(-1, -2))# Getting the Sum over the last two axes (axis=-1 and axis=-2) at once\n",
    "\n",
    "\n",
    "print(result)\n"
   ]
  }
 ],
 "metadata": {
  "kernelspec": {
   "display_name": "Python 3 (ipykernel)",
   "language": "python",
   "name": "python3"
  },
  "language_info": {
   "codemirror_mode": {
    "name": "ipython",
    "version": 3
   },
   "file_extension": ".py",
   "mimetype": "text/x-python",
   "name": "python",
   "nbconvert_exporter": "python",
   "pygments_lexer": "ipython3",
   "version": "3.9.10"
  }
 },
 "nbformat": 4,
 "nbformat_minor": 5
}
